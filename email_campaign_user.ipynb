{
 "cells": [
  {
   "cell_type": "markdown",
   "id": "d9b94cea",
   "metadata": {},
   "source": [
    "# User Behavior Analysis and Prediction in Email Campaigns\n",
    "\n",
    "## Introduction\n",
    "\n",
    "This project aims to extract data-driven insights from an e-commerce market email campaign."
   ]
  },
  {
   "cell_type": "code",
   "execution_count": 1,
   "id": "d5a42882",
   "metadata": {},
   "outputs": [],
   "source": [
    "# import itertools\n",
    "import numpy as np\n",
    "import pandas as pd\n",
    "import matplotlib.pyplot as plt\n",
    "import seaborn as sns\n",
    "plt.style.use(\"seaborn\")\n",
    "\n",
    "from sklearn.feature_selection import chi2,f_classif\n",
    "from sklearn.preprocessing import LabelEncoder\n",
    "from sklearn.metrics import classification_report,roc_curve,precision_score,recall_score,auc,precision_recall_curve\n",
    "from sklearn.model_selection import train_test_split\n",
    "import xgboost as xgb"
   ]
  },
  {
   "cell_type": "markdown",
   "id": "29a1a2ac",
   "metadata": {},
   "source": [
    "## 1. Load Data\n",
    "\n",
    "There are three datasets.\n",
    "\n",
    "### 1.1 Email Sending Data"
   ]
  },
  {
   "cell_type": "code",
   "execution_count": 2,
   "id": "2ba9fb55",
   "metadata": {},
   "outputs": [],
   "source": [
    "email_send = pd.read_csv(\"/home/ychen/Downloads/dataset/email_table.csv\")"
   ]
  },
  {
   "cell_type": "code",
   "execution_count": 3,
   "id": "f88d331b",
   "metadata": {},
   "outputs": [
    {
     "data": {
      "text/html": [
       "<div>\n",
       "<style scoped>\n",
       "    .dataframe tbody tr th:only-of-type {\n",
       "        vertical-align: middle;\n",
       "    }\n",
       "\n",
       "    .dataframe tbody tr th {\n",
       "        vertical-align: top;\n",
       "    }\n",
       "\n",
       "    .dataframe thead th {\n",
       "        text-align: right;\n",
       "    }\n",
       "</style>\n",
       "<table border=\"1\" class=\"dataframe\">\n",
       "  <thead>\n",
       "    <tr style=\"text-align: right;\">\n",
       "      <th></th>\n",
       "      <th>email_id</th>\n",
       "      <th>email_text</th>\n",
       "      <th>email_version</th>\n",
       "      <th>hour</th>\n",
       "      <th>weekday</th>\n",
       "      <th>user_country</th>\n",
       "      <th>user_past_purchases</th>\n",
       "    </tr>\n",
       "  </thead>\n",
       "  <tbody>\n",
       "    <tr>\n",
       "      <th>0</th>\n",
       "      <td>85120</td>\n",
       "      <td>short_email</td>\n",
       "      <td>personalized</td>\n",
       "      <td>2</td>\n",
       "      <td>Sunday</td>\n",
       "      <td>US</td>\n",
       "      <td>5</td>\n",
       "    </tr>\n",
       "    <tr>\n",
       "      <th>1</th>\n",
       "      <td>966622</td>\n",
       "      <td>long_email</td>\n",
       "      <td>personalized</td>\n",
       "      <td>12</td>\n",
       "      <td>Sunday</td>\n",
       "      <td>UK</td>\n",
       "      <td>2</td>\n",
       "    </tr>\n",
       "    <tr>\n",
       "      <th>2</th>\n",
       "      <td>777221</td>\n",
       "      <td>long_email</td>\n",
       "      <td>personalized</td>\n",
       "      <td>11</td>\n",
       "      <td>Wednesday</td>\n",
       "      <td>US</td>\n",
       "      <td>2</td>\n",
       "    </tr>\n",
       "    <tr>\n",
       "      <th>3</th>\n",
       "      <td>493711</td>\n",
       "      <td>short_email</td>\n",
       "      <td>generic</td>\n",
       "      <td>6</td>\n",
       "      <td>Monday</td>\n",
       "      <td>UK</td>\n",
       "      <td>1</td>\n",
       "    </tr>\n",
       "    <tr>\n",
       "      <th>4</th>\n",
       "      <td>106887</td>\n",
       "      <td>long_email</td>\n",
       "      <td>generic</td>\n",
       "      <td>14</td>\n",
       "      <td>Monday</td>\n",
       "      <td>US</td>\n",
       "      <td>6</td>\n",
       "    </tr>\n",
       "  </tbody>\n",
       "</table>\n",
       "</div>"
      ],
      "text/plain": [
       "   email_id   email_text email_version  hour    weekday user_country  \\\n",
       "0     85120  short_email  personalized     2     Sunday           US   \n",
       "1    966622   long_email  personalized    12     Sunday           UK   \n",
       "2    777221   long_email  personalized    11  Wednesday           US   \n",
       "3    493711  short_email       generic     6     Monday           UK   \n",
       "4    106887   long_email       generic    14     Monday           US   \n",
       "\n",
       "   user_past_purchases  \n",
       "0                    5  \n",
       "1                    2  \n",
       "2                    2  \n",
       "3                    1  \n",
       "4                    6  "
      ]
     },
     "execution_count": 3,
     "metadata": {},
     "output_type": "execute_result"
    }
   ],
   "source": [
    "email_send.head()"
   ]
  },
  {
   "cell_type": "code",
   "execution_count": 4,
   "id": "2272096d",
   "metadata": {},
   "outputs": [
    {
     "name": "stdout",
     "output_type": "stream",
     "text": [
      "<class 'pandas.core.frame.DataFrame'>\n",
      "RangeIndex: 100000 entries, 0 to 99999\n",
      "Data columns (total 7 columns):\n",
      " #   Column               Non-Null Count   Dtype \n",
      "---  ------               --------------   ----- \n",
      " 0   email_id             100000 non-null  int64 \n",
      " 1   email_text           100000 non-null  object\n",
      " 2   email_version        100000 non-null  object\n",
      " 3   hour                 100000 non-null  int64 \n",
      " 4   weekday              100000 non-null  object\n",
      " 5   user_country         100000 non-null  object\n",
      " 6   user_past_purchases  100000 non-null  int64 \n",
      "dtypes: int64(3), object(4)\n",
      "memory usage: 5.3+ MB\n"
     ]
    }
   ],
   "source": [
    "email_send.info()"
   ]
  },
  {
   "cell_type": "markdown",
   "id": "9d4c67ae",
   "metadata": {},
   "source": [
    "Totally we have 100k records.\n",
    "- **email_id**: User or recipient's ID.\n",
    "- **email_text**: Two versions of the emails: a long email with four paragraphs and a short email with two paragraphs.\n",
    "- **email_version**: Personalized and generic versions. The personalized version begins with the user's name, while the generic version starts with \"Hi.\"\n",
    "- **hour**: The local time when users received these emails.\n",
    "- **weekday**: The day of the week when the emails were received.\n",
    "- **user_country**: The user's country, derived from their IP address.\n",
    "- **user_past_purchases**: The count of past purchases by users who received the emails."
   ]
  },
  {
   "cell_type": "markdown",
   "id": "770bafac",
   "metadata": {},
   "source": [
    "### 1.2 Email Open Data"
   ]
  },
  {
   "cell_type": "code",
   "execution_count": 5,
   "id": "72769109",
   "metadata": {},
   "outputs": [
    {
     "data": {
      "text/html": [
       "<div>\n",
       "<style scoped>\n",
       "    .dataframe tbody tr th:only-of-type {\n",
       "        vertical-align: middle;\n",
       "    }\n",
       "\n",
       "    .dataframe tbody tr th {\n",
       "        vertical-align: top;\n",
       "    }\n",
       "\n",
       "    .dataframe thead th {\n",
       "        text-align: right;\n",
       "    }\n",
       "</style>\n",
       "<table border=\"1\" class=\"dataframe\">\n",
       "  <thead>\n",
       "    <tr style=\"text-align: right;\">\n",
       "      <th></th>\n",
       "      <th>email_id</th>\n",
       "    </tr>\n",
       "  </thead>\n",
       "  <tbody>\n",
       "    <tr>\n",
       "      <th>0</th>\n",
       "      <td>284534</td>\n",
       "    </tr>\n",
       "    <tr>\n",
       "      <th>1</th>\n",
       "      <td>609056</td>\n",
       "    </tr>\n",
       "    <tr>\n",
       "      <th>2</th>\n",
       "      <td>220820</td>\n",
       "    </tr>\n",
       "    <tr>\n",
       "      <th>3</th>\n",
       "      <td>905936</td>\n",
       "    </tr>\n",
       "    <tr>\n",
       "      <th>4</th>\n",
       "      <td>164034</td>\n",
       "    </tr>\n",
       "  </tbody>\n",
       "</table>\n",
       "</div>"
      ],
      "text/plain": [
       "   email_id\n",
       "0    284534\n",
       "1    609056\n",
       "2    220820\n",
       "3    905936\n",
       "4    164034"
      ]
     },
     "execution_count": 5,
     "metadata": {},
     "output_type": "execute_result"
    }
   ],
   "source": [
    "email_open = pd.read_csv(\"/home/ychen/Downloads/dataset/email_opened_table.csv\")\n",
    "email_open.head()"
   ]
  },
  {
   "cell_type": "code",
   "execution_count": 6,
   "id": "4d22964d",
   "metadata": {},
   "outputs": [
    {
     "name": "stdout",
     "output_type": "stream",
     "text": [
      "<class 'pandas.core.frame.DataFrame'>\n",
      "RangeIndex: 10345 entries, 0 to 10344\n",
      "Data columns (total 1 columns):\n",
      " #   Column    Non-Null Count  Dtype\n",
      "---  ------    --------------  -----\n",
      " 0   email_id  10345 non-null  int64\n",
      "dtypes: int64(1)\n",
      "memory usage: 80.9 KB\n"
     ]
    }
   ],
   "source": [
    "email_open.info()"
   ]
  },
  {
   "cell_type": "markdown",
   "id": "537c65b9",
   "metadata": {},
   "source": [
    "10,345 users open the email."
   ]
  },
  {
   "cell_type": "markdown",
   "id": "12e2c555",
   "metadata": {},
   "source": [
    "### 1.3 Link Clicked Data"
   ]
  },
  {
   "cell_type": "code",
   "execution_count": 7,
   "id": "cf887177",
   "metadata": {},
   "outputs": [
    {
     "data": {
      "text/html": [
       "<div>\n",
       "<style scoped>\n",
       "    .dataframe tbody tr th:only-of-type {\n",
       "        vertical-align: middle;\n",
       "    }\n",
       "\n",
       "    .dataframe tbody tr th {\n",
       "        vertical-align: top;\n",
       "    }\n",
       "\n",
       "    .dataframe thead th {\n",
       "        text-align: right;\n",
       "    }\n",
       "</style>\n",
       "<table border=\"1\" class=\"dataframe\">\n",
       "  <thead>\n",
       "    <tr style=\"text-align: right;\">\n",
       "      <th></th>\n",
       "      <th>email_id</th>\n",
       "    </tr>\n",
       "  </thead>\n",
       "  <tbody>\n",
       "    <tr>\n",
       "      <th>0</th>\n",
       "      <td>609056</td>\n",
       "    </tr>\n",
       "    <tr>\n",
       "      <th>1</th>\n",
       "      <td>870980</td>\n",
       "    </tr>\n",
       "    <tr>\n",
       "      <th>2</th>\n",
       "      <td>935124</td>\n",
       "    </tr>\n",
       "    <tr>\n",
       "      <th>3</th>\n",
       "      <td>158501</td>\n",
       "    </tr>\n",
       "    <tr>\n",
       "      <th>4</th>\n",
       "      <td>177561</td>\n",
       "    </tr>\n",
       "  </tbody>\n",
       "</table>\n",
       "</div>"
      ],
      "text/plain": [
       "   email_id\n",
       "0    609056\n",
       "1    870980\n",
       "2    935124\n",
       "3    158501\n",
       "4    177561"
      ]
     },
     "execution_count": 7,
     "metadata": {},
     "output_type": "execute_result"
    }
   ],
   "source": [
    "email_link_click = pd.read_csv(\"/home/ychen/Downloads/dataset/link_clicked_table.csv\")\n",
    "email_link_click.head()"
   ]
  },
  {
   "cell_type": "code",
   "execution_count": 8,
   "id": "2c98b1e5",
   "metadata": {},
   "outputs": [
    {
     "name": "stdout",
     "output_type": "stream",
     "text": [
      "<class 'pandas.core.frame.DataFrame'>\n",
      "RangeIndex: 2119 entries, 0 to 2118\n",
      "Data columns (total 1 columns):\n",
      " #   Column    Non-Null Count  Dtype\n",
      "---  ------    --------------  -----\n",
      " 0   email_id  2119 non-null   int64\n",
      "dtypes: int64(1)\n",
      "memory usage: 16.7 KB\n"
     ]
    }
   ],
   "source": [
    "email_link_click.info()"
   ]
  },
  {
   "cell_type": "markdown",
   "id": "70dc35df",
   "metadata": {},
   "source": [
    "Only 2119 users clicked the link more than once."
   ]
  },
  {
   "cell_type": "markdown",
   "id": "8ea34f85",
   "metadata": {},
   "source": [
    "## 2. Preprocess & Clean Data\n",
    "\n",
    "\n",
    "### 2.1 Preprocess\n",
    "Here, we will convert data of type 'object' to 'integer' and then merge all three dataframes."
   ]
  },
  {
   "cell_type": "code",
   "execution_count": 9,
   "id": "deac61a4",
   "metadata": {},
   "outputs": [
    {
     "data": {
      "text/html": [
       "<div>\n",
       "<style scoped>\n",
       "    .dataframe tbody tr th:only-of-type {\n",
       "        vertical-align: middle;\n",
       "    }\n",
       "\n",
       "    .dataframe tbody tr th {\n",
       "        vertical-align: top;\n",
       "    }\n",
       "\n",
       "    .dataframe thead th {\n",
       "        text-align: right;\n",
       "    }\n",
       "</style>\n",
       "<table border=\"1\" class=\"dataframe\">\n",
       "  <thead>\n",
       "    <tr style=\"text-align: right;\">\n",
       "      <th></th>\n",
       "      <th>email_id</th>\n",
       "      <th>email_text</th>\n",
       "      <th>email_version</th>\n",
       "      <th>hour</th>\n",
       "      <th>weekday</th>\n",
       "      <th>user_country</th>\n",
       "      <th>user_past_purchases</th>\n",
       "      <th>paragraphs</th>\n",
       "    </tr>\n",
       "  </thead>\n",
       "  <tbody>\n",
       "    <tr>\n",
       "      <th>0</th>\n",
       "      <td>85120</td>\n",
       "      <td>short_email</td>\n",
       "      <td>personalized</td>\n",
       "      <td>2</td>\n",
       "      <td>Sunday</td>\n",
       "      <td>US</td>\n",
       "      <td>5</td>\n",
       "      <td>2</td>\n",
       "    </tr>\n",
       "    <tr>\n",
       "      <th>1</th>\n",
       "      <td>966622</td>\n",
       "      <td>long_email</td>\n",
       "      <td>personalized</td>\n",
       "      <td>12</td>\n",
       "      <td>Sunday</td>\n",
       "      <td>UK</td>\n",
       "      <td>2</td>\n",
       "      <td>4</td>\n",
       "    </tr>\n",
       "    <tr>\n",
       "      <th>2</th>\n",
       "      <td>777221</td>\n",
       "      <td>long_email</td>\n",
       "      <td>personalized</td>\n",
       "      <td>11</td>\n",
       "      <td>Wednesday</td>\n",
       "      <td>US</td>\n",
       "      <td>2</td>\n",
       "      <td>4</td>\n",
       "    </tr>\n",
       "    <tr>\n",
       "      <th>3</th>\n",
       "      <td>493711</td>\n",
       "      <td>short_email</td>\n",
       "      <td>generic</td>\n",
       "      <td>6</td>\n",
       "      <td>Monday</td>\n",
       "      <td>UK</td>\n",
       "      <td>1</td>\n",
       "      <td>2</td>\n",
       "    </tr>\n",
       "    <tr>\n",
       "      <th>4</th>\n",
       "      <td>106887</td>\n",
       "      <td>long_email</td>\n",
       "      <td>generic</td>\n",
       "      <td>14</td>\n",
       "      <td>Monday</td>\n",
       "      <td>US</td>\n",
       "      <td>6</td>\n",
       "      <td>4</td>\n",
       "    </tr>\n",
       "  </tbody>\n",
       "</table>\n",
       "</div>"
      ],
      "text/plain": [
       "   email_id   email_text email_version  hour    weekday user_country  \\\n",
       "0     85120  short_email  personalized     2     Sunday           US   \n",
       "1    966622   long_email  personalized    12     Sunday           UK   \n",
       "2    777221   long_email  personalized    11  Wednesday           US   \n",
       "3    493711  short_email       generic     6     Monday           UK   \n",
       "4    106887   long_email       generic    14     Monday           US   \n",
       "\n",
       "   user_past_purchases  paragraphs  \n",
       "0                    5           2  \n",
       "1                    2           4  \n",
       "2                    2           4  \n",
       "3                    1           2  \n",
       "4                    6           4  "
      ]
     },
     "execution_count": 9,
     "metadata": {},
     "output_type": "execute_result"
    }
   ],
   "source": [
    "# Replace email_text with paragraphs. \n",
    "# Note that long email corresponds to 4 paragraphs, and short email corresponds to 2.\n",
    "email_send[\"paragraphs\"] = email_send['email_text'].apply(lambda x: 2 if x == 'short_email' else 4)\n",
    "email_send.head()"
   ]
  },
  {
   "cell_type": "code",
   "execution_count": 10,
   "id": "c4995557",
   "metadata": {},
   "outputs": [
    {
     "data": {
      "text/html": [
       "<div>\n",
       "<style scoped>\n",
       "    .dataframe tbody tr th:only-of-type {\n",
       "        vertical-align: middle;\n",
       "    }\n",
       "\n",
       "    .dataframe tbody tr th {\n",
       "        vertical-align: top;\n",
       "    }\n",
       "\n",
       "    .dataframe thead th {\n",
       "        text-align: right;\n",
       "    }\n",
       "</style>\n",
       "<table border=\"1\" class=\"dataframe\">\n",
       "  <thead>\n",
       "    <tr style=\"text-align: right;\">\n",
       "      <th></th>\n",
       "      <th>email_id</th>\n",
       "      <th>email_text</th>\n",
       "      <th>email_version</th>\n",
       "      <th>hour</th>\n",
       "      <th>weekday</th>\n",
       "      <th>user_country</th>\n",
       "      <th>user_past_purchases</th>\n",
       "      <th>paragraphs</th>\n",
       "      <th>personalized</th>\n",
       "    </tr>\n",
       "  </thead>\n",
       "  <tbody>\n",
       "    <tr>\n",
       "      <th>0</th>\n",
       "      <td>85120</td>\n",
       "      <td>short_email</td>\n",
       "      <td>personalized</td>\n",
       "      <td>2</td>\n",
       "      <td>Sunday</td>\n",
       "      <td>US</td>\n",
       "      <td>5</td>\n",
       "      <td>2</td>\n",
       "      <td>1</td>\n",
       "    </tr>\n",
       "    <tr>\n",
       "      <th>1</th>\n",
       "      <td>966622</td>\n",
       "      <td>long_email</td>\n",
       "      <td>personalized</td>\n",
       "      <td>12</td>\n",
       "      <td>Sunday</td>\n",
       "      <td>UK</td>\n",
       "      <td>2</td>\n",
       "      <td>4</td>\n",
       "      <td>1</td>\n",
       "    </tr>\n",
       "    <tr>\n",
       "      <th>2</th>\n",
       "      <td>777221</td>\n",
       "      <td>long_email</td>\n",
       "      <td>personalized</td>\n",
       "      <td>11</td>\n",
       "      <td>Wednesday</td>\n",
       "      <td>US</td>\n",
       "      <td>2</td>\n",
       "      <td>4</td>\n",
       "      <td>1</td>\n",
       "    </tr>\n",
       "    <tr>\n",
       "      <th>3</th>\n",
       "      <td>493711</td>\n",
       "      <td>short_email</td>\n",
       "      <td>generic</td>\n",
       "      <td>6</td>\n",
       "      <td>Monday</td>\n",
       "      <td>UK</td>\n",
       "      <td>1</td>\n",
       "      <td>2</td>\n",
       "      <td>0</td>\n",
       "    </tr>\n",
       "    <tr>\n",
       "      <th>4</th>\n",
       "      <td>106887</td>\n",
       "      <td>long_email</td>\n",
       "      <td>generic</td>\n",
       "      <td>14</td>\n",
       "      <td>Monday</td>\n",
       "      <td>US</td>\n",
       "      <td>6</td>\n",
       "      <td>4</td>\n",
       "      <td>0</td>\n",
       "    </tr>\n",
       "  </tbody>\n",
       "</table>\n",
       "</div>"
      ],
      "text/plain": [
       "   email_id   email_text email_version  hour    weekday user_country  \\\n",
       "0     85120  short_email  personalized     2     Sunday           US   \n",
       "1    966622   long_email  personalized    12     Sunday           UK   \n",
       "2    777221   long_email  personalized    11  Wednesday           US   \n",
       "3    493711  short_email       generic     6     Monday           UK   \n",
       "4    106887   long_email       generic    14     Monday           US   \n",
       "\n",
       "   user_past_purchases  paragraphs  personalized  \n",
       "0                    5           2             1  \n",
       "1                    2           4             1  \n",
       "2                    2           4             1  \n",
       "3                    1           2             0  \n",
       "4                    6           4             0  "
      ]
     },
     "execution_count": 10,
     "metadata": {},
     "output_type": "execute_result"
    }
   ],
   "source": [
    "# Replace email_version with personalized. \n",
    "# If it is personalized, then use \"1\", else \"0\".\n",
    "email_send[\"personalized\"] = email_send['email_version'].apply(lambda x: 1 if x == 'personalized' else 0)\n",
    "email_send.head()"
   ]
  },
  {
   "cell_type": "code",
   "execution_count": 11,
   "id": "8ac37434",
   "metadata": {},
   "outputs": [
    {
     "data": {
      "text/html": [
       "<div>\n",
       "<style scoped>\n",
       "    .dataframe tbody tr th:only-of-type {\n",
       "        vertical-align: middle;\n",
       "    }\n",
       "\n",
       "    .dataframe tbody tr th {\n",
       "        vertical-align: top;\n",
       "    }\n",
       "\n",
       "    .dataframe thead th {\n",
       "        text-align: right;\n",
       "    }\n",
       "</style>\n",
       "<table border=\"1\" class=\"dataframe\">\n",
       "  <thead>\n",
       "    <tr style=\"text-align: right;\">\n",
       "      <th></th>\n",
       "      <th>email_id</th>\n",
       "      <th>email_text</th>\n",
       "      <th>email_version</th>\n",
       "      <th>hour</th>\n",
       "      <th>weekday</th>\n",
       "      <th>user_country</th>\n",
       "      <th>user_past_purchases</th>\n",
       "      <th>paragraphs</th>\n",
       "      <th>personalized</th>\n",
       "      <th>weekday_index</th>\n",
       "    </tr>\n",
       "  </thead>\n",
       "  <tbody>\n",
       "    <tr>\n",
       "      <th>0</th>\n",
       "      <td>85120</td>\n",
       "      <td>short_email</td>\n",
       "      <td>personalized</td>\n",
       "      <td>2</td>\n",
       "      <td>Sunday</td>\n",
       "      <td>US</td>\n",
       "      <td>5</td>\n",
       "      <td>2</td>\n",
       "      <td>1</td>\n",
       "      <td>6</td>\n",
       "    </tr>\n",
       "    <tr>\n",
       "      <th>1</th>\n",
       "      <td>966622</td>\n",
       "      <td>long_email</td>\n",
       "      <td>personalized</td>\n",
       "      <td>12</td>\n",
       "      <td>Sunday</td>\n",
       "      <td>UK</td>\n",
       "      <td>2</td>\n",
       "      <td>4</td>\n",
       "      <td>1</td>\n",
       "      <td>6</td>\n",
       "    </tr>\n",
       "    <tr>\n",
       "      <th>2</th>\n",
       "      <td>777221</td>\n",
       "      <td>long_email</td>\n",
       "      <td>personalized</td>\n",
       "      <td>11</td>\n",
       "      <td>Wednesday</td>\n",
       "      <td>US</td>\n",
       "      <td>2</td>\n",
       "      <td>4</td>\n",
       "      <td>1</td>\n",
       "      <td>2</td>\n",
       "    </tr>\n",
       "    <tr>\n",
       "      <th>3</th>\n",
       "      <td>493711</td>\n",
       "      <td>short_email</td>\n",
       "      <td>generic</td>\n",
       "      <td>6</td>\n",
       "      <td>Monday</td>\n",
       "      <td>UK</td>\n",
       "      <td>1</td>\n",
       "      <td>2</td>\n",
       "      <td>0</td>\n",
       "      <td>0</td>\n",
       "    </tr>\n",
       "    <tr>\n",
       "      <th>4</th>\n",
       "      <td>106887</td>\n",
       "      <td>long_email</td>\n",
       "      <td>generic</td>\n",
       "      <td>14</td>\n",
       "      <td>Monday</td>\n",
       "      <td>US</td>\n",
       "      <td>6</td>\n",
       "      <td>4</td>\n",
       "      <td>0</td>\n",
       "      <td>0</td>\n",
       "    </tr>\n",
       "  </tbody>\n",
       "</table>\n",
       "</div>"
      ],
      "text/plain": [
       "   email_id   email_text email_version  hour    weekday user_country  \\\n",
       "0     85120  short_email  personalized     2     Sunday           US   \n",
       "1    966622   long_email  personalized    12     Sunday           UK   \n",
       "2    777221   long_email  personalized    11  Wednesday           US   \n",
       "3    493711  short_email       generic     6     Monday           UK   \n",
       "4    106887   long_email       generic    14     Monday           US   \n",
       "\n",
       "   user_past_purchases  paragraphs  personalized  weekday_index  \n",
       "0                    5           2             1              6  \n",
       "1                    2           4             1              6  \n",
       "2                    2           4             1              2  \n",
       "3                    1           2             0              0  \n",
       "4                    6           4             0              0  "
      ]
     },
     "execution_count": 11,
     "metadata": {},
     "output_type": "execute_result"
    }
   ],
   "source": [
    "# Replace weekday with weekday_index. \n",
    "# Count starts from Monday.\n",
    "weekday_index = {'Sunday':6,'Monday':0,'Tuesday':1,'Wednesday':2,'Thursday':3,'Friday':4,'Saturday':5}\n",
    "# weekday_index = {'Sunday':7,'Monday':1,'Tuesday':2,'Wednesday':3,'Thursday':4,'Friday':5,'Saturday':6}\n",
    "email_send['weekday_index'] = email_send['weekday'].apply(lambda x: weekday_index[x])\n",
    "email_send.head()"
   ]
  },
  {
   "cell_type": "code",
   "execution_count": 12,
   "id": "746df70c",
   "metadata": {},
   "outputs": [
    {
     "data": {
      "text/html": [
       "<div>\n",
       "<style scoped>\n",
       "    .dataframe tbody tr th:only-of-type {\n",
       "        vertical-align: middle;\n",
       "    }\n",
       "\n",
       "    .dataframe tbody tr th {\n",
       "        vertical-align: top;\n",
       "    }\n",
       "\n",
       "    .dataframe thead th {\n",
       "        text-align: right;\n",
       "    }\n",
       "</style>\n",
       "<table border=\"1\" class=\"dataframe\">\n",
       "  <thead>\n",
       "    <tr style=\"text-align: right;\">\n",
       "      <th></th>\n",
       "      <th>email_id</th>\n",
       "      <th>email_text</th>\n",
       "      <th>email_version</th>\n",
       "      <th>hour</th>\n",
       "      <th>weekday</th>\n",
       "      <th>country</th>\n",
       "      <th>purchases</th>\n",
       "      <th>paragraphs</th>\n",
       "      <th>personalized</th>\n",
       "      <th>weekday_index</th>\n",
       "    </tr>\n",
       "  </thead>\n",
       "  <tbody>\n",
       "    <tr>\n",
       "      <th>0</th>\n",
       "      <td>85120</td>\n",
       "      <td>short_email</td>\n",
       "      <td>personalized</td>\n",
       "      <td>2</td>\n",
       "      <td>Sunday</td>\n",
       "      <td>US</td>\n",
       "      <td>5</td>\n",
       "      <td>2</td>\n",
       "      <td>1</td>\n",
       "      <td>6</td>\n",
       "    </tr>\n",
       "    <tr>\n",
       "      <th>1</th>\n",
       "      <td>966622</td>\n",
       "      <td>long_email</td>\n",
       "      <td>personalized</td>\n",
       "      <td>12</td>\n",
       "      <td>Sunday</td>\n",
       "      <td>UK</td>\n",
       "      <td>2</td>\n",
       "      <td>4</td>\n",
       "      <td>1</td>\n",
       "      <td>6</td>\n",
       "    </tr>\n",
       "    <tr>\n",
       "      <th>2</th>\n",
       "      <td>777221</td>\n",
       "      <td>long_email</td>\n",
       "      <td>personalized</td>\n",
       "      <td>11</td>\n",
       "      <td>Wednesday</td>\n",
       "      <td>US</td>\n",
       "      <td>2</td>\n",
       "      <td>4</td>\n",
       "      <td>1</td>\n",
       "      <td>2</td>\n",
       "    </tr>\n",
       "    <tr>\n",
       "      <th>3</th>\n",
       "      <td>493711</td>\n",
       "      <td>short_email</td>\n",
       "      <td>generic</td>\n",
       "      <td>6</td>\n",
       "      <td>Monday</td>\n",
       "      <td>UK</td>\n",
       "      <td>1</td>\n",
       "      <td>2</td>\n",
       "      <td>0</td>\n",
       "      <td>0</td>\n",
       "    </tr>\n",
       "    <tr>\n",
       "      <th>4</th>\n",
       "      <td>106887</td>\n",
       "      <td>long_email</td>\n",
       "      <td>generic</td>\n",
       "      <td>14</td>\n",
       "      <td>Monday</td>\n",
       "      <td>US</td>\n",
       "      <td>6</td>\n",
       "      <td>4</td>\n",
       "      <td>0</td>\n",
       "      <td>0</td>\n",
       "    </tr>\n",
       "  </tbody>\n",
       "</table>\n",
       "</div>"
      ],
      "text/plain": [
       "   email_id   email_text email_version  hour    weekday country  purchases  \\\n",
       "0     85120  short_email  personalized     2     Sunday      US          5   \n",
       "1    966622   long_email  personalized    12     Sunday      UK          2   \n",
       "2    777221   long_email  personalized    11  Wednesday      US          2   \n",
       "3    493711  short_email       generic     6     Monday      UK          1   \n",
       "4    106887   long_email       generic    14     Monday      US          6   \n",
       "\n",
       "   paragraphs  personalized  weekday_index  \n",
       "0           2             1              6  \n",
       "1           4             1              6  \n",
       "2           4             1              2  \n",
       "3           2             0              0  \n",
       "4           4             0              0  "
      ]
     },
     "execution_count": 12,
     "metadata": {},
     "output_type": "execute_result"
    }
   ],
   "source": [
    "# Simplify column names\n",
    "email_send.rename(columns={'user_past_purchases':'purchases','user_country':'country'},inplace=True)\n",
    "email_send.head()"
   ]
  },
  {
   "cell_type": "code",
   "execution_count": 13,
   "id": "32084e8a",
   "metadata": {},
   "outputs": [
    {
     "data": {
      "text/html": [
       "<div>\n",
       "<style scoped>\n",
       "    .dataframe tbody tr th:only-of-type {\n",
       "        vertical-align: middle;\n",
       "    }\n",
       "\n",
       "    .dataframe tbody tr th {\n",
       "        vertical-align: top;\n",
       "    }\n",
       "\n",
       "    .dataframe thead th {\n",
       "        text-align: right;\n",
       "    }\n",
       "</style>\n",
       "<table border=\"1\" class=\"dataframe\">\n",
       "  <thead>\n",
       "    <tr style=\"text-align: right;\">\n",
       "      <th></th>\n",
       "      <th>email_id</th>\n",
       "      <th>email_text</th>\n",
       "      <th>email_version</th>\n",
       "      <th>hour</th>\n",
       "      <th>weekday</th>\n",
       "      <th>country</th>\n",
       "      <th>purchases</th>\n",
       "      <th>paragraphs</th>\n",
       "      <th>personalized</th>\n",
       "      <th>weekday_index</th>\n",
       "      <th>status</th>\n",
       "    </tr>\n",
       "  </thead>\n",
       "  <tbody>\n",
       "    <tr>\n",
       "      <th>0</th>\n",
       "      <td>85120</td>\n",
       "      <td>short_email</td>\n",
       "      <td>personalized</td>\n",
       "      <td>2</td>\n",
       "      <td>Sunday</td>\n",
       "      <td>US</td>\n",
       "      <td>5</td>\n",
       "      <td>2</td>\n",
       "      <td>1</td>\n",
       "      <td>6</td>\n",
       "      <td>received</td>\n",
       "    </tr>\n",
       "    <tr>\n",
       "      <th>1</th>\n",
       "      <td>966622</td>\n",
       "      <td>long_email</td>\n",
       "      <td>personalized</td>\n",
       "      <td>12</td>\n",
       "      <td>Sunday</td>\n",
       "      <td>UK</td>\n",
       "      <td>2</td>\n",
       "      <td>4</td>\n",
       "      <td>1</td>\n",
       "      <td>6</td>\n",
       "      <td>clicked</td>\n",
       "    </tr>\n",
       "    <tr>\n",
       "      <th>2</th>\n",
       "      <td>777221</td>\n",
       "      <td>long_email</td>\n",
       "      <td>personalized</td>\n",
       "      <td>11</td>\n",
       "      <td>Wednesday</td>\n",
       "      <td>US</td>\n",
       "      <td>2</td>\n",
       "      <td>4</td>\n",
       "      <td>1</td>\n",
       "      <td>2</td>\n",
       "      <td>received</td>\n",
       "    </tr>\n",
       "    <tr>\n",
       "      <th>3</th>\n",
       "      <td>493711</td>\n",
       "      <td>short_email</td>\n",
       "      <td>generic</td>\n",
       "      <td>6</td>\n",
       "      <td>Monday</td>\n",
       "      <td>UK</td>\n",
       "      <td>1</td>\n",
       "      <td>2</td>\n",
       "      <td>0</td>\n",
       "      <td>0</td>\n",
       "      <td>received</td>\n",
       "    </tr>\n",
       "    <tr>\n",
       "      <th>4</th>\n",
       "      <td>106887</td>\n",
       "      <td>long_email</td>\n",
       "      <td>generic</td>\n",
       "      <td>14</td>\n",
       "      <td>Monday</td>\n",
       "      <td>US</td>\n",
       "      <td>6</td>\n",
       "      <td>4</td>\n",
       "      <td>0</td>\n",
       "      <td>0</td>\n",
       "      <td>received</td>\n",
       "    </tr>\n",
       "  </tbody>\n",
       "</table>\n",
       "</div>"
      ],
      "text/plain": [
       "   email_id   email_text email_version  hour    weekday country  purchases  \\\n",
       "0     85120  short_email  personalized     2     Sunday      US          5   \n",
       "1    966622   long_email  personalized    12     Sunday      UK          2   \n",
       "2    777221   long_email  personalized    11  Wednesday      US          2   \n",
       "3    493711  short_email       generic     6     Monday      UK          1   \n",
       "4    106887   long_email       generic    14     Monday      US          6   \n",
       "\n",
       "   paragraphs  personalized  weekday_index    status  \n",
       "0           2             1              6  received  \n",
       "1           4             1              6   clicked  \n",
       "2           4             1              2  received  \n",
       "3           2             0              0  received  \n",
       "4           4             0              0  received  "
      ]
     },
     "execution_count": 13,
     "metadata": {},
     "output_type": "execute_result"
    }
   ],
   "source": [
    "# Merge with three dataframes\n",
    "email_send['status'] = 'received'\n",
    "email_send.loc[email_send['email_id'].isin(email_open['email_id']), 'status'] = 'opened'\n",
    "email_send.loc[email_send['email_id'].isin(email_link_click['email_id']), 'status'] = 'clicked'\n",
    "email_send.head()"
   ]
  },
  {
   "cell_type": "markdown",
   "id": "2a8e5d13",
   "metadata": {},
   "source": [
    "### 2.2 Clean Data\n",
    "\n",
    "Note that the typical sequence is 'receiving email - opening email - clicking link'. However, some users may click links without opening the emails. For these users, we need to filter out those IDs and remove the records, as their actions are not a result of this marketing email campaign."
   ]
  },
  {
   "cell_type": "code",
   "execution_count": 14,
   "id": "27ac6522",
   "metadata": {},
   "outputs": [
    {
     "name": "stdout",
     "output_type": "stream",
     "text": [
      "0 users clicked the link via the other way.\n"
     ]
    }
   ],
   "source": [
    "# Check IDs who opened emails without receiving ones (theoretically impossible)\n",
    "ids_not_receive = email_open[~email_open['email_id'].isin(email_send['email_id'])]\n",
    "print('{} users clicked the link via the other way.'.format(ids_not_receive.count()[0]))"
   ]
  },
  {
   "cell_type": "markdown",
   "id": "11f8f1da",
   "metadata": {},
   "source": [
    "Very good!"
   ]
  },
  {
   "cell_type": "code",
   "execution_count": 15,
   "id": "6ec20f59",
   "metadata": {},
   "outputs": [
    {
     "name": "stdout",
     "output_type": "stream",
     "text": [
      "50 users clicked the link via the other way.\n"
     ]
    }
   ],
   "source": [
    "# Check IDs who clicked links without openning emails\n",
    "ids_not_open = email_link_click[~email_link_click['email_id'].isin(email_open['email_id'])]\n",
    "print('{} users clicked the link via the other way.'.format(ids_not_open.count()[0]))"
   ]
  },
  {
   "cell_type": "code",
   "execution_count": 16,
   "id": "db9da781",
   "metadata": {},
   "outputs": [
    {
     "name": "stdout",
     "output_type": "stream",
     "text": [
      "100000 users in the original dataframe.\n",
      "99950 users in the new dataframe.\n"
     ]
    }
   ],
   "source": [
    "# Remove these ids in the email dataframe\n",
    "# Also remove nan\n",
    "print('{} users in the original dataframe.'.format(len(email_send)))\n",
    "email = email_send[~email_send['email_id'].isin(ids_not_open['email_id'])].copy()\n",
    "email.dropna(inplace=True)\n",
    "print('{} users in the new dataframe.'.format(len(email)))"
   ]
  },
  {
   "cell_type": "code",
   "execution_count": 17,
   "id": "3e9e6899",
   "metadata": {},
   "outputs": [
    {
     "data": {
      "text/plain": [
       "received    0.896498\n",
       "opened      0.082801\n",
       "clicked     0.020700\n",
       "Name: status, dtype: float64"
      ]
     },
     "execution_count": 17,
     "metadata": {},
     "output_type": "execute_result"
    }
   ],
   "source": [
    "# Check how many users receive, open, and click emails\n",
    "email_response = email['status'].value_counts(normalize=True)\n",
    "email_response"
   ]
  },
  {
   "cell_type": "code",
   "execution_count": 18,
   "id": "3ae1a573",
   "metadata": {},
   "outputs": [
    {
     "name": "stdout",
     "output_type": "stream",
     "text": [
      "10.35% of users opened the email.\n",
      "2.07% of users clicked the link.\n"
     ]
    }
   ],
   "source": [
    "print ('{:.2f}% of users opened the email.'.format((1-email_response['received']) * 100))\n",
    "print ('{:.2f}% of users clicked the link.'.format(email_response['clicked'] * 100))"
   ]
  },
  {
   "cell_type": "markdown",
   "id": "39736737",
   "metadata": {},
   "source": [
    "## 3. Data Exploration & Visualization\n",
    "\n",
    "Now, let's explore and visualize the data to identify patterns.\n",
    "\n",
    "### 3.1 Status vs Country"
   ]
  },
  {
   "cell_type": "code",
   "execution_count": 19,
   "id": "613c3401",
   "metadata": {},
   "outputs": [
    {
     "data": {
      "text/html": [
       "<div>\n",
       "<style scoped>\n",
       "    .dataframe tbody tr th:only-of-type {\n",
       "        vertical-align: middle;\n",
       "    }\n",
       "\n",
       "    .dataframe tbody tr th {\n",
       "        vertical-align: top;\n",
       "    }\n",
       "\n",
       "    .dataframe thead th {\n",
       "        text-align: right;\n",
       "    }\n",
       "</style>\n",
       "<table border=\"1\" class=\"dataframe\">\n",
       "  <thead>\n",
       "    <tr style=\"text-align: right;\">\n",
       "      <th>status</th>\n",
       "      <th>clicked</th>\n",
       "      <th>opened</th>\n",
       "      <th>received</th>\n",
       "    </tr>\n",
       "    <tr>\n",
       "      <th>country</th>\n",
       "      <th></th>\n",
       "      <th></th>\n",
       "      <th></th>\n",
       "    </tr>\n",
       "  </thead>\n",
       "  <tbody>\n",
       "    <tr>\n",
       "      <th>ES</th>\n",
       "      <td>80</td>\n",
       "      <td>310</td>\n",
       "      <td>9574</td>\n",
       "    </tr>\n",
       "    <tr>\n",
       "      <th>FR</th>\n",
       "      <td>74</td>\n",
       "      <td>332</td>\n",
       "      <td>9583</td>\n",
       "    </tr>\n",
       "    <tr>\n",
       "      <th>UK</th>\n",
       "      <td>481</td>\n",
       "      <td>1915</td>\n",
       "      <td>17532</td>\n",
       "    </tr>\n",
       "    <tr>\n",
       "      <th>US</th>\n",
       "      <td>1434</td>\n",
       "      <td>5719</td>\n",
       "      <td>52916</td>\n",
       "    </tr>\n",
       "  </tbody>\n",
       "</table>\n",
       "</div>"
      ],
      "text/plain": [
       "status   clicked  opened  received\n",
       "country                           \n",
       "ES            80     310      9574\n",
       "FR            74     332      9583\n",
       "UK           481    1915     17532\n",
       "US          1434    5719     52916"
      ]
     },
     "execution_count": 19,
     "metadata": {},
     "output_type": "execute_result"
    }
   ],
   "source": [
    "email_status_country = email.groupby(['country', 'status']).size().unstack(fill_value=0)\n",
    "email_status_country"
   ]
  },
  {
   "cell_type": "markdown",
   "id": "b7b53cd1",
   "metadata": {},
   "source": [
    "This email campaign predominantly targets users in the UK and US. Therefore, we need to calculate the normalized rates for each country. Since the 'opened' group is a subset of the 'received' group, and the 'clicked' group is a subset of the 'opened' group, normalization should be based on the 'received' group."
   ]
  },
  {
   "cell_type": "code",
   "execution_count": 20,
   "id": "2b80f03c",
   "metadata": {},
   "outputs": [
    {
     "data": {
      "text/html": [
       "<div>\n",
       "<style scoped>\n",
       "    .dataframe tbody tr th:only-of-type {\n",
       "        vertical-align: middle;\n",
       "    }\n",
       "\n",
       "    .dataframe tbody tr th {\n",
       "        vertical-align: top;\n",
       "    }\n",
       "\n",
       "    .dataframe thead th {\n",
       "        text-align: right;\n",
       "    }\n",
       "</style>\n",
       "<table border=\"1\" class=\"dataframe\">\n",
       "  <thead>\n",
       "    <tr style=\"text-align: right;\">\n",
       "      <th>status</th>\n",
       "      <th>clicked</th>\n",
       "      <th>opened</th>\n",
       "      <th>received</th>\n",
       "    </tr>\n",
       "    <tr>\n",
       "      <th>country</th>\n",
       "      <th></th>\n",
       "      <th></th>\n",
       "      <th></th>\n",
       "    </tr>\n",
       "  </thead>\n",
       "  <tbody>\n",
       "    <tr>\n",
       "      <th>ES</th>\n",
       "      <td>0.008356</td>\n",
       "      <td>0.032379</td>\n",
       "      <td>1.0</td>\n",
       "    </tr>\n",
       "    <tr>\n",
       "      <th>FR</th>\n",
       "      <td>0.007722</td>\n",
       "      <td>0.034645</td>\n",
       "      <td>1.0</td>\n",
       "    </tr>\n",
       "    <tr>\n",
       "      <th>UK</th>\n",
       "      <td>0.027436</td>\n",
       "      <td>0.109229</td>\n",
       "      <td>1.0</td>\n",
       "    </tr>\n",
       "    <tr>\n",
       "      <th>US</th>\n",
       "      <td>0.027100</td>\n",
       "      <td>0.108077</td>\n",
       "      <td>1.0</td>\n",
       "    </tr>\n",
       "  </tbody>\n",
       "</table>\n",
       "</div>"
      ],
      "text/plain": [
       "status    clicked    opened  received\n",
       "country                              \n",
       "ES       0.008356  0.032379       1.0\n",
       "FR       0.007722  0.034645       1.0\n",
       "UK       0.027436  0.109229       1.0\n",
       "US       0.027100  0.108077       1.0"
      ]
     },
     "execution_count": 20,
     "metadata": {},
     "output_type": "execute_result"
    }
   ],
   "source": [
    "email_status_country_normalized = email_status_country.div(email_status_country['received'], axis=0)\n",
    "email_status_country_normalized"
   ]
  },
  {
   "cell_type": "code",
   "execution_count": 21,
   "id": "b6dbeab2",
   "metadata": {},
   "outputs": [
    {
     "data": {
      "image/png": "[encoded data removed]",
      "text/plain": [
       "<Figure size 400x200 with 1 Axes>"
      ]
     },
     "metadata": {},
     "output_type": "display_data"
    }
   ],
   "source": [
    "green_color = sns.color_palette()[1]\n",
    "red_color = sns.color_palette()[2]\n",
    "\n",
    "fig, ax = plt.subplots(1, 1, figsize=(4, 2))\n",
    "email_status_country['received'].plot(kind='bar', ax=ax, color=red_color)\n",
    "email_status_country['opened'].plot(kind='bar', ax=ax, color=green_color)\n",
    "email_status_country['clicked'].plot(kind='bar', ax=ax)\n",
    "ax.set_title('Counts of Email Status by Country')\n",
    "ax.set_xlabel('Country')\n",
    "ax.set_ylabel('Count')\n",
    "ax.set_yscale('log')\n",
    "ax.tick_params(axis='x', rotation=0)\n",
    "ax.legend(title=\"Email Status\", fontsize='small', bbox_to_anchor=(1.05, 1), loc='upper left')\n",
    "\n",
    "plt.show()"
   ]
  },
  {
   "cell_type": "markdown",
   "id": "c9b4ea82",
   "metadata": {},
   "source": [
    "Again we can use overlapped bars because (1) the 'opened' group is now a subset of the 'received' group, and (2) the 'clicked' group is a subset of the 'opened' group. Users in the UK and US appear to have higher open and click rates compared to those in Spain (ES) and France (FR). This discrepancy may be due to the emails being written in English, which could hinder engagement among non-English speaking users."
   ]
  },
  {
   "cell_type": "markdown",
   "id": "7272796c",
   "metadata": {},
   "source": [
    "### 3.2 Status vs Weekday"
   ]
  },
  {
   "cell_type": "code",
   "execution_count": 22,
   "id": "0660fa04",
   "metadata": {},
   "outputs": [
    {
     "data": {
      "text/html": [
       "<div>\n",
       "<style scoped>\n",
       "    .dataframe tbody tr th:only-of-type {\n",
       "        vertical-align: middle;\n",
       "    }\n",
       "\n",
       "    .dataframe tbody tr th {\n",
       "        vertical-align: top;\n",
       "    }\n",
       "\n",
       "    .dataframe thead th {\n",
       "        text-align: right;\n",
       "    }\n",
       "</style>\n",
       "<table border=\"1\" class=\"dataframe\">\n",
       "  <thead>\n",
       "    <tr style=\"text-align: right;\">\n",
       "      <th>status</th>\n",
       "      <th>clicked</th>\n",
       "      <th>opened</th>\n",
       "      <th>received</th>\n",
       "    </tr>\n",
       "    <tr>\n",
       "      <th>weekday</th>\n",
       "      <th></th>\n",
       "      <th></th>\n",
       "      <th></th>\n",
       "    </tr>\n",
       "  </thead>\n",
       "  <tbody>\n",
       "    <tr>\n",
       "      <th>Friday</th>\n",
       "      <td>0.014260</td>\n",
       "      <td>0.065884</td>\n",
       "      <td>1.0</td>\n",
       "    </tr>\n",
       "    <tr>\n",
       "      <th>Monday</th>\n",
       "      <td>0.025530</td>\n",
       "      <td>0.105823</td>\n",
       "      <td>1.0</td>\n",
       "    </tr>\n",
       "    <tr>\n",
       "      <th>Saturday</th>\n",
       "      <td>0.019192</td>\n",
       "      <td>0.076917</td>\n",
       "      <td>1.0</td>\n",
       "    </tr>\n",
       "    <tr>\n",
       "      <th>Sunday</th>\n",
       "      <td>0.017387</td>\n",
       "      <td>0.078777</td>\n",
       "      <td>1.0</td>\n",
       "    </tr>\n",
       "    <tr>\n",
       "      <th>Thursday</th>\n",
       "      <td>0.027497</td>\n",
       "      <td>0.106890</td>\n",
       "      <td>1.0</td>\n",
       "    </tr>\n",
       "    <tr>\n",
       "      <th>Tuesday</th>\n",
       "      <td>0.027829</td>\n",
       "      <td>0.109225</td>\n",
       "      <td>1.0</td>\n",
       "    </tr>\n",
       "    <tr>\n",
       "      <th>Wednesday</th>\n",
       "      <td>0.030927</td>\n",
       "      <td>0.105862</td>\n",
       "      <td>1.0</td>\n",
       "    </tr>\n",
       "  </tbody>\n",
       "</table>\n",
       "</div>"
      ],
      "text/plain": [
       "status      clicked    opened  received\n",
       "weekday                                \n",
       "Friday     0.014260  0.065884       1.0\n",
       "Monday     0.025530  0.105823       1.0\n",
       "Saturday   0.019192  0.076917       1.0\n",
       "Sunday     0.017387  0.078777       1.0\n",
       "Thursday   0.027497  0.106890       1.0\n",
       "Tuesday    0.027829  0.109225       1.0\n",
       "Wednesday  0.030927  0.105862       1.0"
      ]
     },
     "execution_count": 22,
     "metadata": {},
     "output_type": "execute_result"
    }
   ],
   "source": [
    "email_status_weekday = email.groupby(['weekday', 'status']).size().unstack(fill_value=0)\n",
    "email_status_weekday_normalized = email_status_weekday.div(email_status_weekday['received'], axis=0)\n",
    "email_status_weekday_normalized"
   ]
  },
  {
   "cell_type": "code",
   "execution_count": 23,
   "id": "4e70ab3f",
   "metadata": {},
   "outputs": [
    {
     "data": {
      "image/png": "[encoded data removed]",
      "text/plain": [
       "<Figure size 800x150 with 1 Axes>"
      ]
     },
     "metadata": {},
     "output_type": "display_data"
    }
   ],
   "source": [
    "fig, ax = plt.subplots(1, 1, figsize=(8, 1.5))\n",
    "email_status_weekday.plot(kind='bar', ax=ax)\n",
    "ax.set_title('Counts of Email Status by Weekday')\n",
    "ax.set_xlabel('Weekday')\n",
    "ax.set_ylabel('Frequency')\n",
    "ax.set_yscale('log')\n",
    "ax.tick_params(axis='x', rotation=0)\n",
    "ax.legend(title=\"Email Status\", fontsize='small', bbox_to_anchor=(1.05, 1), loc='upper left')\n",
    "\n",
    "plt.show()"
   ]
  },
  {
   "cell_type": "markdown",
   "id": "e8a81b6b",
   "metadata": {},
   "source": [
    "Emails are sent to users almost equally across each weekday. The open rates are quite similar on business days, while the click rates are relatively lower on weekends. This could suggest that people prefer to check their emails on business days."
   ]
  },
  {
   "cell_type": "markdown",
   "id": "81ab2b2a",
   "metadata": {},
   "source": [
    "### 3.3 Status vs Personalized & Paragraphs\n",
    "\n",
    "Since emails are sent to all users, we will now focus on analyzing the open and click rates only."
   ]
  },
  {
   "cell_type": "code",
   "execution_count": 24,
   "id": "ac6c8281",
   "metadata": {},
   "outputs": [
    {
     "data": {
      "text/html": [
       "<div>\n",
       "<style scoped>\n",
       "    .dataframe tbody tr th:only-of-type {\n",
       "        vertical-align: middle;\n",
       "    }\n",
       "\n",
       "    .dataframe tbody tr th {\n",
       "        vertical-align: top;\n",
       "    }\n",
       "\n",
       "    .dataframe thead th {\n",
       "        text-align: right;\n",
       "    }\n",
       "</style>\n",
       "<table border=\"1\" class=\"dataframe\">\n",
       "  <thead>\n",
       "    <tr style=\"text-align: right;\">\n",
       "      <th>status</th>\n",
       "      <th>clicked</th>\n",
       "      <th>opened</th>\n",
       "    </tr>\n",
       "    <tr>\n",
       "      <th>email_version</th>\n",
       "      <th></th>\n",
       "      <th></th>\n",
       "    </tr>\n",
       "  </thead>\n",
       "  <tbody>\n",
       "    <tr>\n",
       "      <th>generic</th>\n",
       "      <td>729</td>\n",
       "      <td>3255</td>\n",
       "    </tr>\n",
       "    <tr>\n",
       "      <th>personalized</th>\n",
       "      <td>1340</td>\n",
       "      <td>5021</td>\n",
       "    </tr>\n",
       "  </tbody>\n",
       "</table>\n",
       "</div>"
      ],
      "text/plain": [
       "status         clicked  opened\n",
       "email_version                 \n",
       "generic            729    3255\n",
       "personalized      1340    5021"
      ]
     },
     "execution_count": 24,
     "metadata": {},
     "output_type": "execute_result"
    }
   ],
   "source": [
    "email_status_personalized = email.groupby(['email_version', 'status']).size().unstack(fill_value=0)\n",
    "email_status_personalized = email_status_personalized.drop('received', axis=1)\n",
    "email_status_personalized"
   ]
  },
  {
   "cell_type": "code",
   "execution_count": 25,
   "id": "ee963614",
   "metadata": {},
   "outputs": [
    {
     "data": {
      "text/html": [
       "<div>\n",
       "<style scoped>\n",
       "    .dataframe tbody tr th:only-of-type {\n",
       "        vertical-align: middle;\n",
       "    }\n",
       "\n",
       "    .dataframe tbody tr th {\n",
       "        vertical-align: top;\n",
       "    }\n",
       "\n",
       "    .dataframe thead th {\n",
       "        text-align: right;\n",
       "    }\n",
       "</style>\n",
       "<table border=\"1\" class=\"dataframe\">\n",
       "  <thead>\n",
       "    <tr style=\"text-align: right;\">\n",
       "      <th>status</th>\n",
       "      <th>clicked</th>\n",
       "      <th>opened</th>\n",
       "    </tr>\n",
       "    <tr>\n",
       "      <th>email_text</th>\n",
       "      <th></th>\n",
       "      <th></th>\n",
       "    </tr>\n",
       "  </thead>\n",
       "  <tbody>\n",
       "    <tr>\n",
       "      <th>long_email</th>\n",
       "      <td>904</td>\n",
       "      <td>3680</td>\n",
       "    </tr>\n",
       "    <tr>\n",
       "      <th>short_email</th>\n",
       "      <td>1165</td>\n",
       "      <td>4596</td>\n",
       "    </tr>\n",
       "  </tbody>\n",
       "</table>\n",
       "</div>"
      ],
      "text/plain": [
       "status       clicked  opened\n",
       "email_text                  \n",
       "long_email       904    3680\n",
       "short_email     1165    4596"
      ]
     },
     "execution_count": 25,
     "metadata": {},
     "output_type": "execute_result"
    }
   ],
   "source": [
    "email_status_paragraphs = email.groupby(['email_text', 'status']).size().unstack(fill_value=0)\n",
    "email_status_paragraphs = email_status_paragraphs.drop('received', axis=1)\n",
    "email_status_paragraphs "
   ]
  },
  {
   "cell_type": "code",
   "execution_count": 26,
   "id": "4f2246df",
   "metadata": {},
   "outputs": [
    {
     "data": {
      "image/png": "[encoded data removed]",
      "text/plain": [
       "<Figure size 700x300 with 2 Axes>"
      ]
     },
     "metadata": {},
     "output_type": "display_data"
    }
   ],
   "source": [
    "fig, ax = plt.subplots(1, 2, figsize=(7, 3))\n",
    "email_status_personalized['opened'].plot(kind='bar', ax=ax[0], color=green_color)\n",
    "email_status_personalized['clicked'].plot(kind='bar', ax=ax[0])\n",
    "ax[0].set_title('Counts of Email Status by Version')\n",
    "ax[0].set_xlabel('Email Version')\n",
    "ax[0].set_ylabel('Frequency')\n",
    "ax[0].tick_params(axis='x', rotation=0)\n",
    "ax[0].legend().set_visible(False)\n",
    "\n",
    "email_status_paragraphs['opened'].plot(kind='bar', ax=ax[1], color=green_color)\n",
    "email_status_paragraphs['clicked'].plot(kind='bar', ax=ax[1])\n",
    "ax[1].set_title('Counts of Email Status by Text Length')\n",
    "ax[1].set_xlabel('Email Text Length')\n",
    "ax[1].set_ylabel('Frequency')\n",
    "ax[1].tick_params(axis='x', rotation=0)\n",
    "ax[1].legend(title=\"Email Status\", fontsize='small', bbox_to_anchor=(1.05, 1), loc='upper left')\n",
    "\n",
    "plt.tight_layout()\n",
    "plt.show()"
   ]
  },
  {
   "cell_type": "markdown",
   "id": "cadca06b",
   "metadata": {},
   "source": [
    "It appears that users who received personalized and short emails have higher open and click rates."
   ]
  },
  {
   "cell_type": "markdown",
   "id": "4f8b0adc",
   "metadata": {},
   "source": [
    "### 3.4 Status vs Sending Hours"
   ]
  },
  {
   "cell_type": "code",
   "execution_count": 27,
   "id": "9e9550a8",
   "metadata": {},
   "outputs": [
    {
     "data": {
      "text/html": [
       "<div>\n",
       "<style scoped>\n",
       "    .dataframe tbody tr th:only-of-type {\n",
       "        vertical-align: middle;\n",
       "    }\n",
       "\n",
       "    .dataframe tbody tr th {\n",
       "        vertical-align: top;\n",
       "    }\n",
       "\n",
       "    .dataframe thead th {\n",
       "        text-align: right;\n",
       "    }\n",
       "</style>\n",
       "<table border=\"1\" class=\"dataframe\">\n",
       "  <thead>\n",
       "    <tr style=\"text-align: right;\">\n",
       "      <th>status</th>\n",
       "      <th>clicked</th>\n",
       "      <th>opened</th>\n",
       "    </tr>\n",
       "    <tr>\n",
       "      <th>hour</th>\n",
       "      <th></th>\n",
       "      <th></th>\n",
       "    </tr>\n",
       "  </thead>\n",
       "  <tbody>\n",
       "    <tr>\n",
       "      <th>1</th>\n",
       "      <td>47</td>\n",
       "      <td>192</td>\n",
       "    </tr>\n",
       "    <tr>\n",
       "      <th>2</th>\n",
       "      <td>58</td>\n",
       "      <td>265</td>\n",
       "    </tr>\n",
       "    <tr>\n",
       "      <th>3</th>\n",
       "      <td>89</td>\n",
       "      <td>301</td>\n",
       "    </tr>\n",
       "    <tr>\n",
       "      <th>4</th>\n",
       "      <td>89</td>\n",
       "      <td>407</td>\n",
       "    </tr>\n",
       "    <tr>\n",
       "      <th>5</th>\n",
       "      <td>115</td>\n",
       "      <td>423</td>\n",
       "    </tr>\n",
       "  </tbody>\n",
       "</table>\n",
       "</div>"
      ],
      "text/plain": [
       "status  clicked  opened\n",
       "hour                   \n",
       "1            47     192\n",
       "2            58     265\n",
       "3            89     301\n",
       "4            89     407\n",
       "5           115     423"
      ]
     },
     "execution_count": 27,
     "metadata": {},
     "output_type": "execute_result"
    }
   ],
   "source": [
    "email_status_hours = email.groupby(['hour', 'status']).size().unstack(fill_value=0)\n",
    "email_status_hours = email_status_hours.drop('received', axis=1)\n",
    "email_status_hours.head()"
   ]
  },
  {
   "cell_type": "code",
   "execution_count": 28,
   "id": "c6d189d2",
   "metadata": {},
   "outputs": [
    {
     "data": {
      "image/png": "[encoded data removed]",
      "text/plain": [
       "<Figure size 1000x250 with 1 Axes>"
      ]
     },
     "metadata": {},
     "output_type": "display_data"
    }
   ],
   "source": [
    "fig, ax = plt.subplots(1, 1, figsize=(10, 2.5))\n",
    "email_status_hours['opened'].plot(kind='bar', ax=ax, color=green_color)\n",
    "email_status_hours['clicked'].plot(kind='bar', ax=ax)\n",
    "ax.set_title('Counts of Email Status by Sending Hour')\n",
    "ax.set_ylabel('Frequency')\n",
    "ax.tick_params(axis='x', rotation=0)\n",
    "ax.legend(title=\"Email Status\", fontsize='small', bbox_to_anchor=(1.025, 1), loc='upper left')\n",
    "\n",
    "plt.tight_layout()\n",
    "plt.show()"
   ]
  },
  {
   "cell_type": "markdown",
   "id": "91025af8",
   "metadata": {},
   "source": [
    "The sending hours also seem to affect the open and click rates."
   ]
  },
  {
   "cell_type": "markdown",
   "id": "c99a9e9f",
   "metadata": {},
   "source": [
    "### 3.5 Status vs Past Purchanse"
   ]
  },
  {
   "cell_type": "code",
   "execution_count": 29,
   "id": "f316c862",
   "metadata": {},
   "outputs": [],
   "source": [
    "email_status_purchase = email.groupby(['purchases', 'status']).size().unstack(fill_value=0)\n",
    "email_status_purchase_normalized = email_status_purchase.div(email_status_purchase['received'], axis=0)"
   ]
  },
  {
   "cell_type": "code",
   "execution_count": 30,
   "id": "bdbdbf04",
   "metadata": {},
   "outputs": [
    {
     "data": {
      "image/png": "[encoded data removed]",
      "text/plain": [
       "<Figure size 1000x250 with 1 Axes>"
      ]
     },
     "metadata": {},
     "output_type": "display_data"
    }
   ],
   "source": [
    "fig, ax = plt.subplots(1, 1, figsize=(10, 2.5))\n",
    "email_status_purchase['opened'].plot(kind='bar', ax=ax, color=green_color)\n",
    "email_status_purchase['clicked'].plot(kind='bar', ax=ax)\n",
    "ax.set_title('Counts of Email Status by Past Purchases')\n",
    "ax.set_ylabel('Frequency')\n",
    "ax.tick_params(axis='x', rotation=0)\n",
    "ax.set_yscale('log')\n",
    "ax.legend(title=\"Email Status\", fontsize='small', bbox_to_anchor=(1.025, 1), loc='upper left')\n",
    "\n",
    "plt.tight_layout()\n",
    "plt.show()"
   ]
  },
  {
   "cell_type": "markdown",
   "id": "22991bed",
   "metadata": {},
   "source": [
    "The more past purchases a user has, the higher the click rate. Conversely, users with no previous purchases also exhibit higher open rates."
   ]
  },
  {
   "cell_type": "markdown",
   "id": "bc0e97e2",
   "metadata": {},
   "source": [
    "## 4. Prediction of Users Behavior\n",
    "\n",
    "### 4.1 Prepare Data\n",
    "\n",
    "First, we will encode several parameters and remove columns containing text."
   ]
  },
  {
   "cell_type": "code",
   "execution_count": 31,
   "id": "822e00d5",
   "metadata": {},
   "outputs": [
    {
     "data": {
      "text/html": [
       "<div>\n",
       "<style scoped>\n",
       "    .dataframe tbody tr th:only-of-type {\n",
       "        vertical-align: middle;\n",
       "    }\n",
       "\n",
       "    .dataframe tbody tr th {\n",
       "        vertical-align: top;\n",
       "    }\n",
       "\n",
       "    .dataframe thead th {\n",
       "        text-align: right;\n",
       "    }\n",
       "</style>\n",
       "<table border=\"1\" class=\"dataframe\">\n",
       "  <thead>\n",
       "    <tr style=\"text-align: right;\">\n",
       "      <th></th>\n",
       "      <th>email_id</th>\n",
       "      <th>email_text</th>\n",
       "      <th>email_version</th>\n",
       "      <th>hour</th>\n",
       "      <th>weekday</th>\n",
       "      <th>country</th>\n",
       "      <th>purchases</th>\n",
       "      <th>paragraphs</th>\n",
       "      <th>personalized</th>\n",
       "      <th>weekday_index</th>\n",
       "      <th>status</th>\n",
       "    </tr>\n",
       "  </thead>\n",
       "  <tbody>\n",
       "    <tr>\n",
       "      <th>0</th>\n",
       "      <td>85120</td>\n",
       "      <td>short_email</td>\n",
       "      <td>personalized</td>\n",
       "      <td>2</td>\n",
       "      <td>Sunday</td>\n",
       "      <td>US</td>\n",
       "      <td>5</td>\n",
       "      <td>2</td>\n",
       "      <td>1</td>\n",
       "      <td>6</td>\n",
       "      <td>received</td>\n",
       "    </tr>\n",
       "    <tr>\n",
       "      <th>1</th>\n",
       "      <td>966622</td>\n",
       "      <td>long_email</td>\n",
       "      <td>personalized</td>\n",
       "      <td>12</td>\n",
       "      <td>Sunday</td>\n",
       "      <td>UK</td>\n",
       "      <td>2</td>\n",
       "      <td>4</td>\n",
       "      <td>1</td>\n",
       "      <td>6</td>\n",
       "      <td>clicked</td>\n",
       "    </tr>\n",
       "    <tr>\n",
       "      <th>2</th>\n",
       "      <td>777221</td>\n",
       "      <td>long_email</td>\n",
       "      <td>personalized</td>\n",
       "      <td>11</td>\n",
       "      <td>Wednesday</td>\n",
       "      <td>US</td>\n",
       "      <td>2</td>\n",
       "      <td>4</td>\n",
       "      <td>1</td>\n",
       "      <td>2</td>\n",
       "      <td>received</td>\n",
       "    </tr>\n",
       "    <tr>\n",
       "      <th>3</th>\n",
       "      <td>493711</td>\n",
       "      <td>short_email</td>\n",
       "      <td>generic</td>\n",
       "      <td>6</td>\n",
       "      <td>Monday</td>\n",
       "      <td>UK</td>\n",
       "      <td>1</td>\n",
       "      <td>2</td>\n",
       "      <td>0</td>\n",
       "      <td>0</td>\n",
       "      <td>received</td>\n",
       "    </tr>\n",
       "    <tr>\n",
       "      <th>4</th>\n",
       "      <td>106887</td>\n",
       "      <td>long_email</td>\n",
       "      <td>generic</td>\n",
       "      <td>14</td>\n",
       "      <td>Monday</td>\n",
       "      <td>US</td>\n",
       "      <td>6</td>\n",
       "      <td>4</td>\n",
       "      <td>0</td>\n",
       "      <td>0</td>\n",
       "      <td>received</td>\n",
       "    </tr>\n",
       "  </tbody>\n",
       "</table>\n",
       "</div>"
      ],
      "text/plain": [
       "   email_id   email_text email_version  hour    weekday country  purchases  \\\n",
       "0     85120  short_email  personalized     2     Sunday      US          5   \n",
       "1    966622   long_email  personalized    12     Sunday      UK          2   \n",
       "2    777221   long_email  personalized    11  Wednesday      US          2   \n",
       "3    493711  short_email       generic     6     Monday      UK          1   \n",
       "4    106887   long_email       generic    14     Monday      US          6   \n",
       "\n",
       "   paragraphs  personalized  weekday_index    status  \n",
       "0           2             1              6  received  \n",
       "1           4             1              6   clicked  \n",
       "2           4             1              2  received  \n",
       "3           2             0              0  received  \n",
       "4           4             0              0  received  "
      ]
     },
     "execution_count": 31,
     "metadata": {},
     "output_type": "execute_result"
    }
   ],
   "source": [
    "email.head()"
   ]
  },
  {
   "cell_type": "code",
   "execution_count": 32,
   "id": "b6762c90",
   "metadata": {},
   "outputs": [],
   "source": [
    "# Encode parameters such as status and country\n",
    "status_encoder = LabelEncoder()\n",
    "country_encoder = LabelEncoder()\n",
    "# Prepare X and y\n",
    "email_scores = email.copy().set_index('email_id')\n",
    "email_scores[\"country_index\"] = country_encoder.fit_transform(email_scores.country)\n",
    "email_response = status_encoder.fit_transform(email_scores.status)\n",
    "# Drop texted columns and use email_id as index\n",
    "email_scores.drop(['email_text','email_version','weekday','status','country'], axis=1, inplace=True)\n",
    "features = ['hour','purchases','paragraphs','personalized','weekday_index','country_index']"
   ]
  },
  {
   "cell_type": "code",
   "execution_count": 33,
   "id": "afa7da75",
   "metadata": {},
   "outputs": [
    {
     "data": {
      "text/html": [
       "<div>\n",
       "<style scoped>\n",
       "    .dataframe tbody tr th:only-of-type {\n",
       "        vertical-align: middle;\n",
       "    }\n",
       "\n",
       "    .dataframe tbody tr th {\n",
       "        vertical-align: top;\n",
       "    }\n",
       "\n",
       "    .dataframe thead th {\n",
       "        text-align: right;\n",
       "    }\n",
       "</style>\n",
       "<table border=\"1\" class=\"dataframe\">\n",
       "  <thead>\n",
       "    <tr style=\"text-align: right;\">\n",
       "      <th></th>\n",
       "      <th>chi2scores</th>\n",
       "      <th>fscores</th>\n",
       "    </tr>\n",
       "  </thead>\n",
       "  <tbody>\n",
       "    <tr>\n",
       "      <th>purchases</th>\n",
       "      <td>3531.192988</td>\n",
       "      <td>679.384928</td>\n",
       "    </tr>\n",
       "    <tr>\n",
       "      <th>country_index</th>\n",
       "      <td>379.511900</td>\n",
       "      <td>436.766620</td>\n",
       "    </tr>\n",
       "    <tr>\n",
       "      <th>personalized</th>\n",
       "      <td>322.342162</td>\n",
       "      <td>323.104071</td>\n",
       "    </tr>\n",
       "    <tr>\n",
       "      <th>weekday_index</th>\n",
       "      <td>287.387514</td>\n",
       "      <td>107.863475</td>\n",
       "    </tr>\n",
       "    <tr>\n",
       "      <th>hour</th>\n",
       "      <td>146.958215</td>\n",
       "      <td>33.794228</td>\n",
       "    </tr>\n",
       "    <tr>\n",
       "      <th>paragraphs</th>\n",
       "      <td>54.719521</td>\n",
       "      <td>82.364252</td>\n",
       "    </tr>\n",
       "  </tbody>\n",
       "</table>\n",
       "</div>"
      ],
      "text/plain": [
       "                chi2scores     fscores\n",
       "purchases      3531.192988  679.384928\n",
       "country_index   379.511900  436.766620\n",
       "personalized    322.342162  323.104071\n",
       "weekday_index   287.387514  107.863475\n",
       "hour            146.958215   33.794228\n",
       "paragraphs       54.719521   82.364252"
      ]
     },
     "execution_count": 33,
     "metadata": {},
     "output_type": "execute_result"
    }
   ],
   "source": [
    "chi2scores,_ = chi2(email_scores,email_response)\n",
    "fscores,_ = f_classif(email_scores,email_response)\n",
    "feat_scores = pd.DataFrame({'chi2scores':chi2scores,'fscores':fscores},index=features)\n",
    "feat_scores.sort_values(by=['chi2scores','fscores'],ascending=[False,False])"
   ]
  },
  {
   "cell_type": "markdown",
   "id": "c628bd4f",
   "metadata": {},
   "source": [
    "It turns out that users' past purchases, country, and whether the email was personalized are key factors affecting the response to the email campaign. Conversely, the day of the week, the hour the email was received, and the length of the email are less important."
   ]
  },
  {
   "cell_type": "markdown",
   "id": "e2540d35",
   "metadata": {},
   "source": [
    "### 4.2 XGBoost Model"
   ]
  },
  {
   "cell_type": "code",
   "execution_count": 34,
   "id": "7f6c5e20",
   "metadata": {
    "scrolled": true
   },
   "outputs": [
    {
     "data": {
      "text/html": [
       "<div>\n",
       "<style scoped>\n",
       "    .dataframe tbody tr th:only-of-type {\n",
       "        vertical-align: middle;\n",
       "    }\n",
       "\n",
       "    .dataframe tbody tr th {\n",
       "        vertical-align: top;\n",
       "    }\n",
       "\n",
       "    .dataframe thead th {\n",
       "        text-align: right;\n",
       "    }\n",
       "</style>\n",
       "<table border=\"1\" class=\"dataframe\">\n",
       "  <thead>\n",
       "    <tr style=\"text-align: right;\">\n",
       "      <th></th>\n",
       "      <th>purchases</th>\n",
       "      <th>paragraphs</th>\n",
       "      <th>personalized</th>\n",
       "      <th>weekend</th>\n",
       "      <th>country_FR</th>\n",
       "      <th>country_UK</th>\n",
       "      <th>country_US</th>\n",
       "    </tr>\n",
       "    <tr>\n",
       "      <th>email_id</th>\n",
       "      <th></th>\n",
       "      <th></th>\n",
       "      <th></th>\n",
       "      <th></th>\n",
       "      <th></th>\n",
       "      <th></th>\n",
       "      <th></th>\n",
       "    </tr>\n",
       "  </thead>\n",
       "  <tbody>\n",
       "    <tr>\n",
       "      <th>85120</th>\n",
       "      <td>5</td>\n",
       "      <td>2</td>\n",
       "      <td>1</td>\n",
       "      <td>1</td>\n",
       "      <td>0</td>\n",
       "      <td>0</td>\n",
       "      <td>1</td>\n",
       "    </tr>\n",
       "    <tr>\n",
       "      <th>966622</th>\n",
       "      <td>2</td>\n",
       "      <td>4</td>\n",
       "      <td>1</td>\n",
       "      <td>1</td>\n",
       "      <td>0</td>\n",
       "      <td>1</td>\n",
       "      <td>0</td>\n",
       "    </tr>\n",
       "    <tr>\n",
       "      <th>777221</th>\n",
       "      <td>2</td>\n",
       "      <td>4</td>\n",
       "      <td>1</td>\n",
       "      <td>0</td>\n",
       "      <td>0</td>\n",
       "      <td>0</td>\n",
       "      <td>1</td>\n",
       "    </tr>\n",
       "    <tr>\n",
       "      <th>493711</th>\n",
       "      <td>1</td>\n",
       "      <td>2</td>\n",
       "      <td>0</td>\n",
       "      <td>0</td>\n",
       "      <td>0</td>\n",
       "      <td>1</td>\n",
       "      <td>0</td>\n",
       "    </tr>\n",
       "    <tr>\n",
       "      <th>106887</th>\n",
       "      <td>6</td>\n",
       "      <td>4</td>\n",
       "      <td>0</td>\n",
       "      <td>0</td>\n",
       "      <td>0</td>\n",
       "      <td>0</td>\n",
       "      <td>1</td>\n",
       "    </tr>\n",
       "  </tbody>\n",
       "</table>\n",
       "</div>"
      ],
      "text/plain": [
       "          purchases  paragraphs  personalized  weekend  country_FR  \\\n",
       "email_id                                                             \n",
       "85120             5           2             1        1           0   \n",
       "966622            2           4             1        1           0   \n",
       "777221            2           4             1        0           0   \n",
       "493711            1           2             0        0           0   \n",
       "106887            6           4             0        0           0   \n",
       "\n",
       "          country_UK  country_US  \n",
       "email_id                          \n",
       "85120              0           1  \n",
       "966622             1           0  \n",
       "777221             0           1  \n",
       "493711             1           0  \n",
       "106887             0           1  "
      ]
     },
     "execution_count": 34,
     "metadata": {},
     "output_type": "execute_result"
    }
   ],
   "source": [
    "X = email.copy()\n",
    "# Create a weekend indicator\n",
    "X['weekend'] = (email.weekday_index>=5).astype(int)\n",
    "# One-Hot-Encode country\n",
    "X = pd.get_dummies(X, columns=[\"country\"],drop_first=True)\n",
    "# Drop non-numerical columns\n",
    "X.drop(['email_text','email_version','weekday','hour','status','weekday_index','status'], axis=1, inplace=True)\n",
    "# Set email_id as index\n",
    "X = X.set_index('email_id')\n",
    "# Take a look\n",
    "X.head()"
   ]
  },
  {
   "cell_type": "code",
   "execution_count": 35,
   "id": "7c67842b",
   "metadata": {},
   "outputs": [],
   "source": [
    "# Target is when the email link is clicked\n",
    "y = (email.copy().set_index('email_id').status == 'clicked').astype(int)"
   ]
  },
  {
   "cell_type": "code",
   "execution_count": 36,
   "id": "375e9de2",
   "metadata": {},
   "outputs": [
    {
     "name": "stdout",
     "output_type": "stream",
     "text": [
      "The length of train set is 66966, positive ratio=0.020.\n",
      "The length of test set is 32984,  positive ratio=0.022.\n"
     ]
    }
   ],
   "source": [
    "# split for training and testing\n",
    "X_train, X_test, y_train, y_test = train_test_split(X, y, test_size=0.33, random_state=42)\n",
    "print(\"The length of train set is {}, positive ratio={:.3f}.\".format(X_train.shape[0],y_train.mean()))\n",
    "print(\"The length of test set is {},  positive ratio={:.3f}.\".format(X_test.shape[0],y_test.mean()))"
   ]
  },
  {
   "cell_type": "code",
   "execution_count": 37,
   "id": "483b5cab",
   "metadata": {},
   "outputs": [
    {
     "name": "stdout",
     "output_type": "stream",
     "text": [
      "[0]\ttrain-auc:0.61960+0.00300\ttest-auc:0.61542+0.00474\n",
      "[10]\ttrain-auc:0.75485+0.00155\ttest-auc:0.73880+0.01219\n",
      "[20]\ttrain-auc:0.75978+0.00228\ttest-auc:0.74189+0.01195\n",
      "[30]\ttrain-auc:0.76202+0.00204\ttest-auc:0.74176+0.01163\n",
      "[40]\ttrain-auc:0.76360+0.00205\ttest-auc:0.74133+0.01140\n",
      "[50]\ttrain-auc:0.76538+0.00231\ttest-auc:0.74089+0.01147\n",
      "[60]\ttrain-auc:0.76673+0.00221\ttest-auc:0.74068+0.01056\n",
      "[61]\ttrain-auc:0.76677+0.00226\ttest-auc:0.74073+0.01066\n"
     ]
    }
   ],
   "source": [
    "# Find the optimal set of parameters using cross validation\n",
    "# Create DMatrix\n",
    "train_matrix = xgb.DMatrix(X_train, y_train)\n",
    "test_matrix = xgb.DMatrix(X_test)\n",
    "# Set parameters for XGBoost\n",
    "params = {'objective': 'binary:logistic','eval_metric': 'auc', 'max_depth': 6,\n",
    "    'eta': 0.1,'subsample': 0.8,'colsample_bytree': 0.8}\n",
    "cv_results = xgb.cv(params, train_matrix, num_boost_round=300, nfold=params.get('nfold', 5), \n",
    "                    metrics=params['eval_metric'], early_stopping_rounds=30, verbose_eval=10, seed=42)"
   ]
  },
  {
   "cell_type": "code",
   "execution_count": 38,
   "id": "c69eb2d9",
   "metadata": {},
   "outputs": [
    {
     "name": "stdout",
     "output_type": "stream",
     "text": [
      "The best number of trees: 32\n"
     ]
    }
   ],
   "source": [
    "# Find the best number of trees\n",
    "n_best_trees = cv_results.shape[0]\n",
    "print(\"The best number of trees: {}\".format(n_best_trees))"
   ]
  },
  {
   "cell_type": "code",
   "execution_count": 39,
   "id": "3b2aee07",
   "metadata": {},
   "outputs": [
    {
     "name": "stdout",
     "output_type": "stream",
     "text": [
      "[0]\ttrain-auc:0.61779\n",
      "[10]\ttrain-auc:0.75301\n",
      "[20]\ttrain-auc:0.75771\n",
      "[30]\ttrain-auc:0.75912\n",
      "[31]\ttrain-auc:0.75933\n"
     ]
    }
   ],
   "source": [
    "watchlist = [(train_matrix, 'train')]\n",
    "gbt = xgb.train(params, train_matrix, n_best_trees, evals=watchlist, verbose_eval=10)"
   ]
  },
  {
   "cell_type": "code",
   "execution_count": 40,
   "id": "98e76847",
   "metadata": {},
   "outputs": [
    {
     "data": {
      "image/png": "[encoded data removed]",
      "text/plain": [
       "<Figure size 500x300 with 1 Axes>"
      ]
     },
     "metadata": {},
     "output_type": "display_data"
    }
   ],
   "source": [
    "# Contributions of features\n",
    "fig, ax = plt.subplots(1, 1, figsize=(5, 3))\n",
    "xgb.plot_importance(gbt, ax=ax)\n",
    "plt.show()"
   ]
  },
  {
   "cell_type": "code",
   "execution_count": 41,
   "id": "6bdb9024",
   "metadata": {},
   "outputs": [],
   "source": [
    "# Validation\n",
    "X_train_2,X_valid,y_train_2,y_valid = train_test_split(X_train,y_train,test_size=0.2,random_state=42)\n",
    "train_2_matrix = xgb.DMatrix(X_train_2,y_train_2)\n",
    "valid_matrix = xgb.DMatrix(X_valid)\n",
    "# Train model again\n",
    "gbt_train_2 = xgb.train(params, train_2_matrix, n_best_trees)\n",
    "# Predict on validation set\n",
    "y_valid_pred = gbt_train_2.predict(valid_matrix)"
   ]
  },
  {
   "cell_type": "code",
   "execution_count": 42,
   "id": "07be265d",
   "metadata": {},
   "outputs": [
    {
     "data": {
      "image/png": "[encoded data removed]",
      "text/plain": [
       "<Figure size 400x300 with 1 Axes>"
      ]
     },
     "metadata": {},
     "output_type": "display_data"
    }
   ],
   "source": [
    "# Get ROC\n",
    "fpr, tpr, thresholds = roc_curve(y_valid,y_valid_pred)\n",
    "roc_auc = auc(fpr, tpr)\n",
    "# Plot ROC\n",
    "plt.figure(figsize=(4,3))\n",
    "plt.plot(fpr, tpr, lw=2, label='ROC curve (area = %0.2f)' % roc_auc)\n",
    "plt.plot([0, 1], [0, 1], color='k', lw=2, linestyle='--')\n",
    "plt.xlim([0.0, 1.0])\n",
    "plt.ylim([0.0, 1.05])\n",
    "plt.xlabel('False Positive Rate')\n",
    "plt.ylabel('True Positive Rate')\n",
    "plt.legend(loc=\"lower right\")\n",
    "plt.show()"
   ]
  },
  {
   "cell_type": "code",
   "execution_count": 43,
   "id": "280f0154",
   "metadata": {},
   "outputs": [
    {
     "data": {
      "text/plain": [
       "0.03142107"
      ]
     },
     "execution_count": 43,
     "metadata": {},
     "output_type": "execute_result"
    }
   ],
   "source": [
    "# Find a balance between precision and recall\n",
    "idx = np.where((tpr > 0.6) & (fpr < 0.65))\n",
    "idx_thres = thresholds[idx]\n",
    "selected_thres = idx_thres[0] \n",
    "selected_thres"
   ]
  },
  {
   "cell_type": "code",
   "execution_count": 44,
   "id": "8a15e02a",
   "metadata": {},
   "outputs": [
    {
     "name": "stdout",
     "output_type": "stream",
     "text": [
      "              precision    recall  f1-score   support\n",
      "\n",
      "           0       0.99      0.74      0.85     65633\n",
      "           1       0.05      0.60      0.08      1333\n",
      "\n",
      "    accuracy                           0.74     66966\n",
      "   macro avg       0.52      0.67      0.47     66966\n",
      "weighted avg       0.97      0.74      0.83     66966\n",
      "\n"
     ]
    }
   ],
   "source": [
    "# Predict\n",
    "y_pred_temp = gbt.predict(train_matrix)\n",
    "y_train_pred = (y_pred_temp > selected_thres).astype(int)\n",
    "print(classification_report(y_train,y_train_pred))"
   ]
  },
  {
   "cell_type": "code",
   "execution_count": 45,
   "id": "77056b4d",
   "metadata": {},
   "outputs": [
    {
     "name": "stdout",
     "output_type": "stream",
     "text": [
      "              precision    recall  f1-score   support\n",
      "\n",
      "           0       0.99      0.75      0.85     32248\n",
      "           1       0.05      0.56      0.09       736\n",
      "\n",
      "    accuracy                           0.74     32984\n",
      "   macro avg       0.52      0.65      0.47     32984\n",
      "weighted avg       0.97      0.74      0.83     32984\n",
      "\n"
     ]
    }
   ],
   "source": [
    "y_pred_temp2 = gbt.predict(test_matrix)\n",
    "y_test_pred = (y_pred_temp2 > selected_thres).astype(int)\n",
    "print(classification_report(y_test,y_test_pred))"
   ]
  },
  {
   "cell_type": "code",
   "execution_count": 46,
   "id": "43b7cc4a",
   "metadata": {},
   "outputs": [
    {
     "name": "stdout",
     "output_type": "stream",
     "text": [
      "test precision: 4.76%\n",
      "test recall: 55.71%\n"
     ]
    }
   ],
   "source": [
    "print (\"test precision: {:.2f}%\".format(precision_score(y_test,y_test_pred) * 100))\n",
    "print (\"test recall: {:.2f}%\".format(recall_score(y_test,y_test_pred) * 100))"
   ]
  },
  {
   "cell_type": "code",
   "execution_count": 47,
   "id": "06a74d34",
   "metadata": {},
   "outputs": [
    {
     "name": "stdout",
     "output_type": "stream",
     "text": [
      "# of emails sent in old way: 32984.\n",
      "# of emails sent in new way: 8607.\n",
      "saving percentage:           73.91(%).\n"
     ]
    }
   ],
   "source": [
    "n_emails_old_sent = y_test_pred.shape[0]\n",
    "n_emails_new_sent = y_test_pred.sum()\n",
    "saving_percentage = 100 - n_emails_new_sent * 100.0/n_emails_old_sent\n",
    "\n",
    "print('# of emails sent in old way: {}.'.format(n_emails_old_sent))\n",
    "print('# of emails sent in new way: {}.'.format(n_emails_new_sent))\n",
    "print('saving percentage:           {}(%).'.format(round(saving_percentage,2)))"
   ]
  },
  {
   "cell_type": "markdown",
   "id": "cbb9f9ab",
   "metadata": {},
   "source": [
    "## Summary & Recommendation"
   ]
  },
  {
   "cell_type": "markdown",
   "id": "64fa87ab",
   "metadata": {},
   "source": [
    "We found that users in the UK and US exhibit higher open and click rates compared to those in Spain and France, likely due to the language barrier with emails written in English. Distribution of emails is nearly uniform across weekdays, with open rates remaining stable on business days and click rates dropping on weekends, suggesting a preference for checking emails during the workweek. Personalized and shorter emails have shown to elicit higher engagement. Key factors influencing campaign response include users' past purchases, country, and personalization of the email, whereas the timing and length of the email play lesser roles.\n",
    "\n",
    "In the previous market campaign, 100,000 emails were sent, but only 2% of users clicked the link, resulting in a very low click-through rate (the number of users who clicked the link over the total number of recipients). To enhance efficiency, the company could use a predictive model to first forecast user behaviors and then target specific groups, potentially reducing costs by about 73%. Additionally, an A/B test could be conducted to evaluate the effectiveness of this approach. Users would be divided into two groups: a control group following the traditional method and a treatment group using the predictive model. The outcomes of the A/B test could then be assessed through hypothesis testing methods such as T-tests or Z-tests."
   ]
  },
  {
   "cell_type": "code",
   "execution_count": null,
   "id": "ff3007a4",
   "metadata": {},
   "outputs": [],
   "source": []
  }
 ],
 "metadata": {
  "kernelspec": {
   "display_name": "Python 3 (ipykernel)",
   "language": "python",
   "name": "python3"
  },
  "language_info": {
   "codemirror_mode": {
    "name": "ipython",
    "version": 3
   },
   "file_extension": ".py",
   "mimetype": "text/x-python",
   "name": "python",
   "nbconvert_exporter": "python",
   "pygments_lexer": "ipython3",
   "version": "3.8.10"
  }
 },
 "nbformat": 4,
 "nbformat_minor": 5
}
